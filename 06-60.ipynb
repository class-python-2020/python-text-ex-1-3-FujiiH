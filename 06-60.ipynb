{
 "metadata": {
  "language_info": {
   "codemirror_mode": {
    "name": "ipython",
    "version": 3
   },
   "file_extension": ".py",
   "mimetype": "text/x-python",
   "name": "python",
   "nbconvert_exporter": "python",
   "pygments_lexer": "ipython3",
   "version": "3.8.2-final"
  },
  "orig_nbformat": 2,
  "kernelspec": {
   "name": "python38232bit8ba6e8112aa245278658ef0154b7be91",
   "display_name": "Python 3.8.2 32-bit"
  }
 },
 "nbformat": 4,
 "nbformat_minor": 2,
 "cells": [
  {
   "cell_type": "code",
   "execution_count": 1,
   "metadata": {},
   "outputs": [
    {
     "output_type": "execute_result",
     "data": {
      "text/plain": "3.141592653589793"
     },
     "metadata": {},
     "execution_count": 1
    }
   ],
   "source": [
    "import math\n",
    "math.pi"
   ]
  },
  {
   "cell_type": "code",
   "execution_count": 2,
   "metadata": {
    "tags": []
   },
   "outputs": [
    {
     "output_type": "stream",
     "name": "stdout",
     "text": "['c:\\\\Users\\\\fujiihirai\\\\Documents\\\\GitHub\\\\python-text-ex-1-3-FujiiH', 'C:\\\\Users\\\\FUJIIH~1\\\\AppData\\\\Local\\\\Temp\\\\6cd5b934-494b-491f-bfeb-cd32fd14fdf4', 'c:\\\\Users\\\\fujiihirai\\\\.vscode\\\\extensions\\\\ms-python.python-2020.8.101144\\\\pythonFiles', 'c:\\\\Users\\\\fujiihirai\\\\.vscode\\\\extensions\\\\ms-python.python-2020.8.101144\\\\pythonFiles\\\\lib\\\\python', 'C:\\\\Users\\\\fujiihirai\\\\AppData\\\\Local\\\\Programs\\\\Python\\\\Python38-32\\\\python38.zip', 'C:\\\\Users\\\\fujiihirai\\\\AppData\\\\Local\\\\Programs\\\\Python\\\\Python38-32\\\\DLLs', 'C:\\\\Users\\\\fujiihirai\\\\AppData\\\\Local\\\\Programs\\\\Python\\\\Python38-32\\\\lib', 'C:\\\\Users\\\\fujiihirai\\\\AppData\\\\Local\\\\Programs\\\\Python\\\\Python38-32', '', 'C:\\\\Users\\\\fujiihirai\\\\AppData\\\\Roaming\\\\Python\\\\Python38\\\\site-packages', 'C:\\\\Users\\\\fujiihirai\\\\AppData\\\\Roaming\\\\Python\\\\Python38\\\\site-packages\\\\win32', 'C:\\\\Users\\\\fujiihirai\\\\AppData\\\\Roaming\\\\Python\\\\Python38\\\\site-packages\\\\win32\\\\lib', 'C:\\\\Users\\\\fujiihirai\\\\AppData\\\\Roaming\\\\Python\\\\Python38\\\\site-packages\\\\Pythonwin', 'C:\\\\Users\\\\fujiihirai\\\\AppData\\\\Local\\\\Programs\\\\Python\\\\Python38-32\\\\lib\\\\site-packages', 'C:\\\\Users\\\\fujiihirai\\\\AppData\\\\Roaming\\\\Python\\\\Python38\\\\site-packages\\\\IPython\\\\extensions', 'C:\\\\Users\\\\fujiihirai\\\\.ipython']\n['__builtins__', '__cached__', '__doc__', '__file__', '__loader__', '__name__', '__package__', '__spec__', 'func', 'func_in_module_under_dir', 'sys']\n"
    }
   ],
   "source": [
    "import my_module\n",
    "my_module_attri = dir(my_module)\n",
    "print(my_module_attri)"
   ]
  },
  {
   "cell_type": "code",
   "execution_count": 4,
   "metadata": {},
   "outputs": [
    {
     "output_type": "error",
     "ename": "SyntaxError",
     "evalue": "no binding for nonlocal 's2' found (<ipython-input-4-c72026acf388>, line 5)",
     "traceback": [
      "\u001b[1;36m  File \u001b[1;32m\"<ipython-input-4-c72026acf388>\"\u001b[1;36m, line \u001b[1;32m5\u001b[0m\n\u001b[1;33m    nonlocal s2\u001b[0m\n\u001b[1;37m    ^\u001b[0m\n\u001b[1;31mSyntaxError\u001b[0m\u001b[1;31m:\u001b[0m no binding for nonlocal 's2' found\n"
     ]
    }
   ],
   "source": [
    "def scope_test():\n",
    "    def do_local():\n",
    "        s1 = \"local     \"\n",
    "    def do_nolocal():\n",
    "        nonlocal s2\n",
    "        s2 = \"nonlocal\"\n",
    "    def do_glocal():\n",
    "        global s3\n",
    "        s3 = \"global    \"\n",
    "        s0 = s1 = s2 = s3 = \"test   \"\n",
    "        do_local()\n",
    "        print(\"After local  :\", s0, s1, s2, s3)\n",
    "        do_nolocal()\n",
    "        print(\"After nonlocal  :\", s0, s1, s2, s3)\n",
    "        do_glocal()\n",
    "        print(\"After glocal  :\", s0, s1, s2, s3)\n",
    "\n",
    "s0 = s1 = s2 = s3 = \"initial \"\n",
    "print(\"In the global    :\", s0, s1, s2, s3)\n",
    "scope_test()\n",
    "print(\"After func call:\", s0 , s1, s2, s3)"
   ]
  },
  {
   "cell_type": "code",
   "execution_count": 5,
   "metadata": {},
   "outputs": [
    {
     "output_type": "error",
     "ename": "SyntaxError",
     "evalue": "invalid syntax (<ipython-input-5-98105abecf31>, line 11)",
     "traceback": [
      "\u001b[1;36m  File \u001b[1;32m\"<ipython-input-5-98105abecf31>\"\u001b[1;36m, line \u001b[1;32m11\u001b[0m\n\u001b[1;33m    print(\"In event3:\" x, end=\" -> \")\u001b[0m\n\u001b[1;37m                       ^\u001b[0m\n\u001b[1;31mSyntaxError\u001b[0m\u001b[1;31m:\u001b[0m invalid syntax\n"
     ]
    }
   ],
   "source": [
    "x = 'Happy'\n",
    "def event1():\n",
    "    print(\"IN event1:\", x, end=\" => \")\n",
    "\n",
    "def event2():\n",
    "    print(\"IN event2:\", x, end=\" => \")\n",
    "\n",
    "def event3():\n",
    "    global x\n",
    "    x = 'Tired '\n",
    "    print(\"In event3:\" x, end=\" -> \")\n",
    "\n",
    "def event4():\n",
    "    x = 'Excite'\n",
    "    def happening():\n",
    "        print(\"In event4:\", x, end=\" -> \")\n",
    "    happening\n",
    "\n",
    "def event5():\n",
    "    x = 'Fun    '\n",
    "    def happening():\n",
    "        nonlocal x\n",
    "        x = 'Scare '\n",
    "    happening()\n",
    "    print(\"In event5:\", x, end=\" -> \")\n",
    "\n",
    "func_list = [event1, event2, event3, event4, event5]\n",
    "for f in func_list:\n",
    "    f()\n",
    "    print(\"After {}: {}\".format(f.__name__, x))"
   ]
  },
  {
   "cell_type": "code",
   "execution_count": null,
   "metadata": {},
   "outputs": [],
   "source": []
  }
 ]
}
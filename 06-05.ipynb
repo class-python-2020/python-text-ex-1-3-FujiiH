{
 "metadata": {
  "language_info": {
   "codemirror_mode": {
    "name": "ipython",
    "version": 3
   },
   "file_extension": ".py",
   "mimetype": "text/x-python",
   "name": "python",
   "nbconvert_exporter": "python",
   "pygments_lexer": "ipython3",
   "version": "3.8.2-final"
  },
  "orig_nbformat": 2,
  "kernelspec": {
   "name": "python38232bit8ba6e8112aa245278658ef0154b7be91",
   "display_name": "Python 3.8.2 32-bit"
  }
 },
 "nbformat": 4,
 "nbformat_minor": 2,
 "cells": [
  {
   "cell_type": "code",
   "execution_count": 7,
   "metadata": {},
   "outputs": [
    {
     "output_type": "execute_result",
     "data": {
      "text/plain": "8"
     },
     "metadata": {},
     "execution_count": 7
    }
   ],
   "source": [
    "import my_module\n",
    "my_module.func(5)"
   ]
  },
  {
   "cell_type": "code",
   "execution_count": 21,
   "metadata": {},
   "outputs": [
    {
     "output_type": "error",
     "ename": "AttributeError",
     "evalue": "module 'my_module1' has no attribute 'MyClass'",
     "traceback": [
      "\u001b[1;31m---------------------------------------------------------------------------\u001b[0m",
      "\u001b[1;31mAttributeError\u001b[0m                            Traceback (most recent call last)",
      "\u001b[1;32m<ipython-input-21-9c27b0b2a3bc>\u001b[0m in \u001b[0;36m<module>\u001b[1;34m\u001b[0m\n\u001b[0;32m      1\u001b[0m \u001b[1;32mimport\u001b[0m \u001b[0mmy_module1\u001b[0m\u001b[1;33m\u001b[0m\u001b[1;33m\u001b[0m\u001b[0m\n\u001b[1;32m----> 2\u001b[1;33m \u001b[0mmy_class\u001b[0m \u001b[1;33m=\u001b[0m \u001b[0mmy_module1\u001b[0m\u001b[1;33m.\u001b[0m\u001b[0mMyClass\u001b[0m\u001b[1;33m(\u001b[0m\u001b[1;36m3\u001b[0m\u001b[1;33m,\u001b[0m \u001b[1;36m5\u001b[0m\u001b[1;33m)\u001b[0m\u001b[1;33m\u001b[0m\u001b[1;33m\u001b[0m\u001b[0m\n\u001b[0m\u001b[0;32m      3\u001b[0m \u001b[0mmy_class\u001b[0m\u001b[1;33m.\u001b[0m\u001b[0mshow_attributes\u001b[0m\u001b[1;33m(\u001b[0m\u001b[1;33m)\u001b[0m\u001b[1;33m\u001b[0m\u001b[1;33m\u001b[0m\u001b[0m\n\u001b[0;32m      4\u001b[0m \u001b[0mmy_module1\u001b[0m\u001b[1;33m.\u001b[0m\u001b[0mfunc\u001b[0m\u001b[1;33m(\u001b[0m\u001b[1;36m10\u001b[0m\u001b[1;33m)\u001b[0m\u001b[1;33m\u001b[0m\u001b[1;33m\u001b[0m\u001b[0m\n",
      "\u001b[1;31mAttributeError\u001b[0m: module 'my_module1' has no attribute 'MyClass'"
     ]
    }
   ],
   "source": [
    "import my_module1\n",
    "my_class = my_module1.MyClass(3, 5)\n",
    "my_class.show_attributes()\n",
    "my_module1.func(10)"
   ]
  },
  {
   "cell_type": "code",
   "execution_count": 1,
   "metadata": {
    "tags": []
   },
   "outputs": [
    {
     "output_type": "stream",
     "name": "stdout",
     "text": "['c:\\\\Users\\\\fujiihirai\\\\Documents\\\\GitHub\\\\python-text-ex-1-3-FujiiH', 'c:\\\\Users\\\\fujiihirai\\\\.vscode\\\\extensions\\\\ms-python.python-2020.8.101144\\\\pythonFiles', 'c:\\\\Users\\\\fujiihirai\\\\.vscode\\\\extensions\\\\ms-python.python-2020.8.101144\\\\pythonFiles\\\\lib\\\\python', 'C:\\\\Users\\\\fujiihirai\\\\AppData\\\\Local\\\\Programs\\\\Python\\\\Python38-32\\\\python38.zip', 'C:\\\\Users\\\\fujiihirai\\\\AppData\\\\Local\\\\Programs\\\\Python\\\\Python38-32\\\\DLLs', 'C:\\\\Users\\\\fujiihirai\\\\AppData\\\\Local\\\\Programs\\\\Python\\\\Python38-32\\\\lib', 'C:\\\\Users\\\\fujiihirai\\\\AppData\\\\Local\\\\Programs\\\\Python\\\\Python38-32', 'C:\\\\Users\\\\fujiihirai\\\\AppData\\\\Roaming\\\\Python\\\\Python38\\\\site-packages', 'C:\\\\Users\\\\fujiihirai\\\\AppData\\\\Roaming\\\\Python\\\\Python38\\\\site-packages\\\\win32', 'C:\\\\Users\\\\fujiihirai\\\\AppData\\\\Roaming\\\\Python\\\\Python38\\\\site-packages\\\\win32\\\\lib', 'C:\\\\Users\\\\fujiihirai\\\\AppData\\\\Roaming\\\\Python\\\\Python38\\\\site-packages\\\\Pythonwin', 'C:\\\\Users\\\\fujiihirai\\\\AppData\\\\Local\\\\Programs\\\\Python\\\\Python38-32\\\\lib\\\\site-packages']\n"
    }
   ],
   "source": [
    " !python my_module.py"
   ]
  },
  {
   "cell_type": "code",
   "execution_count": 2,
   "metadata": {
    "tags": []
   },
   "outputs": [
    {
     "output_type": "stream",
     "name": "stdout",
     "text": "__name: my_module2\na = 3, b = 5, sum: 8\n"
    }
   ],
   "source": [
    "import my_module2\n",
    "m2 = my_module2.MyClass(3, 5)\n",
    "m2.show_attributes()"
   ]
  },
  {
   "cell_type": "code",
   "execution_count": 3,
   "metadata": {},
   "outputs": [
    {
     "output_type": "error",
     "ename": "ModuleNotFoundError",
     "evalue": "No module named 'my_package.module_a'; 'my_package' is not a package",
     "traceback": [
      "\u001b[1;31m---------------------------------------------------------------------------\u001b[0m",
      "\u001b[1;31mModuleNotFoundError\u001b[0m                       Traceback (most recent call last)",
      "\u001b[1;32m<ipython-input-3-a2f72b2d75a3>\u001b[0m in \u001b[0;36m<module>\u001b[1;34m\u001b[0m\n\u001b[1;32m----> 1\u001b[1;33m \u001b[1;32mimport\u001b[0m \u001b[0mmy_package\u001b[0m\u001b[1;33m.\u001b[0m\u001b[0mmodule_a\u001b[0m\u001b[1;33m\u001b[0m\u001b[1;33m\u001b[0m\u001b[0m\n\u001b[0m\u001b[0;32m      2\u001b[0m \u001b[1;33m\u001b[0m\u001b[0m\n\u001b[0;32m      3\u001b[0m \u001b[0mmy_package\u001b[0m\u001b[1;33m.\u001b[0m\u001b[0mmodule_a\u001b[0m\u001b[1;33m.\u001b[0m\u001b[0mfunc_in_module_under_dir\u001b[0m\u001b[1;33m(\u001b[0m\u001b[1;33m)\u001b[0m\u001b[1;33m\u001b[0m\u001b[1;33m\u001b[0m\u001b[0m\n",
      "\u001b[1;31mModuleNotFoundError\u001b[0m: No module named 'my_package.module_a'; 'my_package' is not a package"
     ]
    }
   ],
   "source": [
    "import my_package.module_a\n",
    "\n",
    "my_package.module_a.func_in_module_under_dir()"
   ]
  },
  {
   "cell_type": "code",
   "execution_count": 1,
   "metadata": {},
   "outputs": [],
   "source": [
    "with open(\"my_math.py\", \"w\") as f:\n",
    "    f.write(\"\"\"def my_pow(x, y):\n",
    "    return x ** y\\n\"\"\")"
   ]
  },
  {
   "cell_type": "code",
   "execution_count": 2,
   "metadata": {},
   "outputs": [
    {
     "output_type": "execute_result",
     "data": {
      "text/plain": "32"
     },
     "metadata": {},
     "execution_count": 2
    }
   ],
   "source": [
    "import my_math\n",
    "my_math.my_pow(2, 5)"
   ]
  },
  {
   "cell_type": "code",
   "execution_count": 3,
   "metadata": {},
   "outputs": [
    {
     "output_type": "execute_result",
     "data": {
      "text/plain": "1.4142135623730951"
     },
     "metadata": {},
     "execution_count": 3
    }
   ],
   "source": [
    "my_math.my_pow(2, 0.5)"
   ]
  },
  {
   "cell_type": "code",
   "execution_count": 4,
   "metadata": {},
   "outputs": [
    {
     "output_type": "execute_result",
     "data": {
      "text/plain": "(1.2246467991473532e-16+2j)"
     },
     "metadata": {},
     "execution_count": 4
    }
   ],
   "source": [
    "ans = my_math.my_pow(-4, 0.5)\n",
    "ans"
   ]
  },
  {
   "cell_type": "code",
   "execution_count": 5,
   "metadata": {
    "tags": []
   },
   "outputs": [
    {
     "output_type": "stream",
     "name": "stdout",
     "text": "実数成分: 1.2246467991473532e-16, 虚数成分: 2.0\n"
    }
   ],
   "source": [
    "print(\"実数成分: {}, 虚数成分: {}\".format(ans.real, ans.imag))"
   ]
  },
  {
   "cell_type": "code",
   "execution_count": 6,
   "metadata": {},
   "outputs": [
    {
     "output_type": "error",
     "ename": "NameError",
     "evalue": "name 'my_pow' is not defined",
     "traceback": [
      "\u001b[1;31m---------------------------------------------------------------------------\u001b[0m",
      "\u001b[1;31mNameError\u001b[0m                                 Traceback (most recent call last)",
      "\u001b[1;32m<ipython-input-6-40e8c0c2fc71>\u001b[0m in \u001b[0;36m<module>\u001b[1;34m\u001b[0m\n\u001b[0;32m      1\u001b[0m \u001b[0mx\u001b[0m\u001b[1;33m,\u001b[0m \u001b[0my\u001b[0m\u001b[1;33m,\u001b[0m \u001b[0mexp\u001b[0m \u001b[1;33m=\u001b[0m \u001b[1;36m2\u001b[0m\u001b[1;33m,\u001b[0m \u001b[1;36m5\u001b[0m\u001b[1;33m,\u001b[0m \u001b[1;36m32\u001b[0m\u001b[1;33m\u001b[0m\u001b[1;33m\u001b[0m\u001b[0m\n\u001b[1;32m----> 2\u001b[1;33m \u001b[0mans\u001b[0m \u001b[1;33m=\u001b[0m \u001b[0mmy_pow\u001b[0m\u001b[1;33m(\u001b[0m\u001b[0mx\u001b[0m\u001b[1;33m,\u001b[0m \u001b[0my\u001b[0m\u001b[1;33m)\u001b[0m\u001b[1;33m\u001b[0m\u001b[1;33m\u001b[0m\u001b[0m\n\u001b[0m\u001b[0;32m      3\u001b[0m \u001b[0mprint\u001b[0m\u001b[1;33m(\u001b[0m\u001b[1;34m\"Test my_pow({},{}) -> {}, exp: {} ----\"\u001b[0m\u001b[1;33m.\u001b[0m\u001b[0mformat\u001b[0m\u001b[1;33m(\u001b[0m\u001b[0mx\u001b[0m\u001b[1;33m,\u001b[0m \u001b[0my\u001b[0m\u001b[1;33m,\u001b[0m \u001b[0mans\u001b[0m\u001b[1;33m,\u001b[0m\u001b[0mexp\u001b[0m\u001b[1;33m)\u001b[0m\u001b[1;33m,\u001b[0m \u001b[0mend\u001b[0m\u001b[1;33m=\u001b[0m\u001b[1;34m\"\"\u001b[0m\u001b[1;33m)\u001b[0m\u001b[1;33m\u001b[0m\u001b[1;33m\u001b[0m\u001b[0m\n\u001b[0;32m      4\u001b[0m \u001b[1;32mif\u001b[0m \u001b[0mans\u001b[0m \u001b[1;33m==\u001b[0m \u001b[0mexp\u001b[0m\u001b[1;33m:\u001b[0m\u001b[1;33m\u001b[0m\u001b[1;33m\u001b[0m\u001b[0m\n\u001b[0;32m      5\u001b[0m     \u001b[0mprint\u001b[0m\u001b[1;33m(\u001b[0m\u001b[1;34m\"Test OK\"\u001b[0m\u001b[1;33m)\u001b[0m\u001b[1;33m\u001b[0m\u001b[1;33m\u001b[0m\u001b[0m\n",
      "\u001b[1;31mNameError\u001b[0m: name 'my_pow' is not defined"
     ]
    }
   ],
   "source": [
    "x, y, exp = 2, 5, 32\n",
    "ans = my_pow(x, y)\n",
    "print(\"Test my_pow({},{}) -> {}, exp: {} ----\".format(x, y, ans,exp), end=\"\")\n",
    "if ans == exp:\n",
    "    print(\"Test OK\")\n",
    "else:\n",
    "    print(\"Test Fail\")"
   ]
  },
  {
   "cell_type": "code",
   "execution_count": 7,
   "metadata": {},
   "outputs": [],
   "source": [
    "with open(\"my_math2.py\", \"w\") as f:\n",
    "    f.writelines('''def my_pow(x, y):\n",
    "    return x ** y\n",
    "if __name__ == \"__main__\":\n",
    "    x, y, exp = 2, 5, 32\n",
    "    ans = my_pow(x, y)\n",
    "    print(\"Test my_pow({},{}) -> {}, exp: {} ---- \".format(x, y, ans, exp), end=\"\")\n",
    "    if ans === exp:\n",
    "        print(\"Test OK\")\n",
    "    else:\n",
    "        print(\"Test Fail)\\n''')"
   ]
  },
  {
   "cell_type": "code",
   "execution_count": 8,
   "metadata": {
    "tags": []
   },
   "outputs": [
    {
     "output_type": "stream",
     "name": "stderr",
     "text": "File \"my_math2.py\", line 7\n    if ans === exp:\n             ^\nSyntaxError: invalid syntax\n"
    }
   ],
   "source": [
    " !python my_math2.py"
   ]
  },
  {
   "cell_type": "code",
   "execution_count": 9,
   "metadata": {},
   "outputs": [
    {
     "output_type": "error",
     "ename": "SyntaxError",
     "evalue": "invalid syntax (my_math2.py, line 7)",
     "traceback": [
      "Traceback \u001b[1;36m(most recent call last)\u001b[0m:\n",
      "  File \u001b[0;32m\"C:\\Users\\fujiihirai\\AppData\\Roaming\\Python\\Python38\\site-packages\\IPython\\core\\interactiveshell.py\"\u001b[0m, line \u001b[0;32m3331\u001b[0m, in \u001b[0;35mrun_code\u001b[0m\n    exec(code_obj, self.user_global_ns, self.user_ns)\n",
      "\u001b[1;36m  File \u001b[1;32m\"<ipython-input-9-c8e1d6056667>\"\u001b[1;36m, line \u001b[1;32m1\u001b[1;36m, in \u001b[1;35m<module>\u001b[1;36m\u001b[0m\n\u001b[1;33m    import my_math2\u001b[0m\n",
      "\u001b[1;36m  File \u001b[1;32m\"c:\\Users\\fujiihirai\\Documents\\GitHub\\python-text-ex-1-3-FujiiH\\my_math2.py\"\u001b[1;36m, line \u001b[1;32m7\u001b[0m\n\u001b[1;33m    if ans === exp:\u001b[0m\n\u001b[1;37m             ^\u001b[0m\n\u001b[1;31mSyntaxError\u001b[0m\u001b[1;31m:\u001b[0m invalid syntax\n"
     ]
    }
   ],
   "source": [
    "import my_math2\n",
    "my_math2.my_pow(2, 5)"
   ]
  },
  {
   "cell_type": "code",
   "execution_count": null,
   "metadata": {},
   "outputs": [],
   "source": []
  }
 ]
}
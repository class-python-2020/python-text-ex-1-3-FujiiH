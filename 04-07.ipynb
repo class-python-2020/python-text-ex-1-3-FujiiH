{
 "metadata": {
  "language_info": {
   "codemirror_mode": {
    "name": "ipython",
    "version": 3
   },
   "file_extension": ".py",
   "mimetype": "text/x-python",
   "name": "python",
   "nbconvert_exporter": "python",
   "pygments_lexer": "ipython3",
   "version": "3.8.2-final"
  },
  "orig_nbformat": 2,
  "kernelspec": {
   "name": "python38232bit8ba6e8112aa245278658ef0154b7be91",
   "display_name": "Python 3.8.2 32-bit"
  }
 },
 "nbformat": 4,
 "nbformat_minor": 2,
 "cells": [
  {
   "cell_type": "code",
   "execution_count": 1,
   "metadata": {},
   "outputs": [],
   "source": [
    "def outer(a, b):\n",
    "    print('outer function (a, b) = ({}, {})'.format(a, b))\n",
    "    def inner(c, d):\n",
    "        print('inner function (c, d) = ({}, {})'.format(c, d))\n",
    "        return c * d\n",
    "    return inner(a, b)"
   ]
  },
  {
   "cell_type": "code",
   "execution_count": 2,
   "metadata": {
    "tags": []
   },
   "outputs": [
    {
     "output_type": "stream",
     "name": "stdout",
     "text": "outer function (a, b) = (4, 7)\ninner function (c, d) = (4, 7)\n28\n"
    }
   ],
   "source": [
    "a = outer(4, 7)\n",
    "print(a)"
   ]
  },
  {
   "cell_type": "code",
   "execution_count": 5,
   "metadata": {},
   "outputs": [
    {
     "output_type": "execute_result",
     "data": {
      "text/plain": "\"We are the knights who say: 'Ni!'\""
     },
     "metadata": {},
     "execution_count": 5
    }
   ],
   "source": [
    "def knights(saying):\n",
    "    def inner(quote):\n",
    "        return \"We are the knights who say: '%s'\" % quote\n",
    "    return inner(saying)\n",
    "\n",
    "knights('Ni!')"
   ]
  },
  {
   "cell_type": "code",
   "execution_count": 8,
   "metadata": {},
   "outputs": [],
   "source": [
    "def make_circle_area_func(pi = 3.14):\n",
    "\n",
    "    def circle_area(radius):\n",
    "\n",
    "        return radius * radius * pi\n",
    "\n",
    "    return circle_area\n",
    "\n",
    "circle_area_precise = make_circle_area_func(pi = 3.1415926535)"
   ]
  },
  {
   "cell_type": "code",
   "execution_count": 9,
   "metadata": {},
   "outputs": [
    {
     "output_type": "execute_result",
     "data": {
      "text/plain": "(function, function)"
     },
     "metadata": {},
     "execution_count": 9
    }
   ],
   "source": [
    "type(circle_area_default), type(circle_area_precise)"
   ]
  },
  {
   "cell_type": "code",
   "execution_count": 10,
   "metadata": {
    "tags": []
   },
   "outputs": [
    {
     "output_type": "stream",
     "name": "stdout",
     "text": "12.566370614\n12.566370614\n"
    }
   ],
   "source": [
    "print(circle_area_default(2))\n",
    "print(circle_area_default(2))"
   ]
  },
  {
   "cell_type": "code",
   "execution_count": 11,
   "metadata": {
    "tags": []
   },
   "outputs": [
    {
     "output_type": "stream",
     "name": "stdout",
     "text": "1\n2\n3\n"
    }
   ],
   "source": [
    "def makecounter():\n",
    "    n = 0\n",
    "    def count():\n",
    "        nonlocal n\n",
    "        n += 1\n",
    "        return n\n",
    "    return count\n",
    "\n",
    "counter = makecounter()\n",
    "print(counter())\n",
    "print(counter())\n",
    "print(counter())"
   ]
  },
  {
   "cell_type": "code",
   "execution_count": 12,
   "metadata": {
    "tags": []
   },
   "outputs": [
    {
     "output_type": "stream",
     "name": "stdout",
     "text": "==== flag: Rad\nSelection is 0 Which may de the default\n====\n==== flag: Blue\nYour choise is 1\n====\n"
    }
   ],
   "source": [
    "def show_message(num=0):\n",
    "    if num == 0:\n",
    "        flag = \"Rad\"\n",
    "        print(\"==== flag:\", flag)\n",
    "        print(\"Selection is\", num, \"Which may de the default\")\n",
    "        print(\"====\")\n",
    "    else:\n",
    "        flag = \"Blue\"\n",
    "        print(\"==== flag:\", flag)\n",
    "        print(\"Your choise is\", num)\n",
    "        print(\"====\")\n",
    "\n",
    "show_message(0)\n",
    "show_message(1)"
   ]
  },
  {
   "cell_type": "code",
   "execution_count": 13,
   "metadata": {},
   "outputs": [],
   "source": [
    "def show_message(num=0):\n",
    "    \n",
    "    def decolate(func):\n",
    "        if num == 0:\n",
    "            flag = \"Rad\"\n",
    "        else:\n",
    "            flag = \"Blue\"\n",
    "\n",
    "        print(\"==== flag:\" , flag)\n",
    "        func()\n",
    "        print(\"====\")\n",
    "\n",
    "        def show_selection(num=num):\n",
    "            if num == 0:\n",
    "                print(\"Selection is \", num, \"Which may be the default\")\n",
    "            else:\n",
    "                print(\"Your choice is \", num)\n",
    "\n",
    "        decokate(show_selection)\n",
    "\n",
    "show_message(0)\n",
    "show_message(1)"
   ]
  },
  {
   "cell_type": "code",
   "execution_count": 14,
   "metadata": {},
   "outputs": [],
   "source": [
    "def make_addfunc():\n",
    "    def add(x, y):\n",
    "        return x + y\n",
    "    return add"
   ]
  },
  {
   "cell_type": "code",
   "execution_count": 16,
   "metadata": {
    "tags": []
   },
   "outputs": [
    {
     "output_type": "stream",
     "name": "stdout",
     "text": "11\n"
    }
   ],
   "source": [
    "adder = make_addfunc()\n",
    "answer = adder(1, 10)\n",
    "print(answer)"
   ]
  },
  {
   "cell_type": "code",
   "execution_count": 17,
   "metadata": {},
   "outputs": [],
   "source": [
    "def make_addfunc():\n",
    "    print('足し算する関数を作成する')\n",
    "    def add(x, y):\n",
    "        print('{} + {} = {}'.format(x, y, x + y))\n",
    "        return x + y\n",
    "    return add"
   ]
  },
  {
   "cell_type": "code",
   "execution_count": 18,
   "metadata": {
    "tags": []
   },
   "outputs": [
    {
     "output_type": "stream",
     "name": "stdout",
     "text": "足し算する関数を作成する\n"
    }
   ],
   "source": [
    "adder = make_addfunc()"
   ]
  },
  {
   "cell_type": "code",
   "execution_count": 19,
   "metadata": {
    "tags": []
   },
   "outputs": [
    {
     "output_type": "stream",
     "name": "stdout",
     "text": "1 + 10 = 11\n"
    }
   ],
   "source": [
    "answer = adder(1, 10)"
   ]
  },
  {
   "cell_type": "code",
   "execution_count": 20,
   "metadata": {
    "tags": []
   },
   "outputs": [
    {
     "output_type": "stream",
     "name": "stdout",
     "text": "11\n"
    }
   ],
   "source": [
    "print(answer)"
   ]
  },
  {
   "cell_type": "code",
   "execution_count": null,
   "metadata": {},
   "outputs": [],
   "source": []
  }
 ]
}